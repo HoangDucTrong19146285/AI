{
  "nbformat": 4,
  "nbformat_minor": 0,
  "metadata": {
    "colab": {
      "name": "ML chuong 1.ipynb",
      "provenance": [],
      "collapsed_sections": []
    },
    "kernelspec": {
      "name": "python3",
      "display_name": "Python 3"
    },
    "language_info": {
      "name": "python"
    }
  },
  "cells": [
    {
      "cell_type": "markdown",
      "source": [
        "# Chapter1 :Vectors, Matrices, and Arrays\n"
      ],
      "metadata": {
        "id": "fYXYGO7VMVB2"
      }
    },
    {
      "cell_type": "markdown",
      "source": [
        "# 1.1 Creating a Vector"
      ],
      "metadata": {
        "id": "V4tlqlU9Mb3b"
      }
    },
    {
      "cell_type": "code",
      "execution_count": null,
      "metadata": {
        "colab": {
          "base_uri": "https://localhost:8080/"
        },
        "id": "pA5gKlhpLOgL",
        "outputId": "94d4e9c5-9120-4921-d06c-2440d8110dd7"
      },
      "outputs": [
        {
          "output_type": "execute_result",
          "data": {
            "text/plain": [
              "array([1, 2, 3])"
            ]
          },
          "metadata": {},
          "execution_count": 3
        }
      ],
      "source": [
        "# load library viết tắt là np\n",
        "import numpy as np\n",
        "#create a vector as a raw\n",
        "Vector_row= np.array ([1,2,3])\n",
        "Vector_row"
      ]
    },
    {
      "cell_type": "code",
      "source": [
        "#create a vector as a column\n",
        "Vector_column= np.array ([[1],\n",
        "                          [2],\n",
        "                          [3]])\n",
        "Vector_column"
      ],
      "metadata": {
        "colab": {
          "base_uri": "https://localhost:8080/"
        },
        "id": "ZlCFzxc7MfOk",
        "outputId": "d092c53c-1dcb-45b7-fad0-4b1bf279d7b7"
      },
      "execution_count": null,
      "outputs": [
        {
          "output_type": "execute_result",
          "data": {
            "text/plain": [
              "array([[1],\n",
              "       [2],\n",
              "       [3]])"
            ]
          },
          "metadata": {},
          "execution_count": 5
        }
      ]
    },
    {
      "cell_type": "markdown",
      "source": [
        "# 1.2 Creating a Matrix "
      ],
      "metadata": {
        "id": "rt_0ZbI-NHKk"
      }
    },
    {
      "cell_type": "code",
      "source": [
        "# Load library\n",
        "import numpy as np\n",
        " # create a matrix\n",
        "matrix= np.array([[1,2],\n",
        "                  [4,5],\n",
        "                  [6,4]])\n",
        "matrix"
      ],
      "metadata": {
        "colab": {
          "base_uri": "https://localhost:8080/"
        },
        "id": "eya0Gfc2NCIk",
        "outputId": "8c07dc5e-070f-4b83-e3e7-3341aca3b376"
      },
      "execution_count": null,
      "outputs": [
        {
          "output_type": "execute_result",
          "data": {
            "text/plain": [
              "array([[1, 2],\n",
              "       [4, 5],\n",
              "       [6, 4]])"
            ]
          },
          "metadata": {},
          "execution_count": 10
        }
      ]
    },
    {
      "cell_type": "markdown",
      "source": [
        "# 1.3 Creating a Sparse Matrix ( loại bỏ các giá trị 0 trong ma trận , chỉ hiển vị giá trị lớn hơn 0 và vị trí của chúng)"
      ],
      "metadata": {
        "id": "1F0Sv7RXNlhs"
      }
    },
    {
      "cell_type": "code",
      "source": [
        "\n",
        "# Load libraries\n",
        "import numpy as np\n",
        "from scipy import sparse\n",
        "# Create larger matrix\n",
        "matrix_large = np.array([[0, 0, 0, 0, 4, 0, 0, 0, 0, 0],        \n",
        "                          [0, 1, 0, 0, 6, 0, 0, 0, 0, 0],                  \n",
        "                          [3, 0, 0, 0, 0, 0, 0, 0, 0, 0]])\n",
        "# Create compressed sparse row (CSR) \n",
        "matrix_large_sparse = sparse.csr_matrix(matrix_large)\n",
        "# View original sparse matrix\n",
        "print(matrix_large)\n",
        "print(matrix_large_sparse)"
      ],
      "metadata": {
        "colab": {
          "base_uri": "https://localhost:8080/"
        },
        "id": "Czjzm3Z8NW9_",
        "outputId": "d8372ea8-8b41-47ac-af6b-bea1f7c11fbc"
      },
      "execution_count": null,
      "outputs": [
        {
          "output_type": "stream",
          "name": "stdout",
          "text": [
            "[[0 0 0 0 4 0 0 0 0 0]\n",
            " [0 1 0 0 6 0 0 0 0 0]\n",
            " [3 0 0 0 0 0 0 0 0 0]]\n",
            "  (0, 4)\t4\n",
            "  (1, 1)\t1\n",
            "  (1, 4)\t6\n",
            "  (2, 0)\t3\n"
          ]
        }
      ]
    },
    {
      "cell_type": "markdown",
      "source": [
        "# 1.4 Selecting Elements (chọn yếu tố/ đặc tính)"
      ],
      "metadata": {
        "id": "5ACnWMPePT8U"
      }
    },
    {
      "cell_type": "code",
      "source": [
        "# Load library \n",
        "import numpy as np\n",
        "# Create row vector \n",
        "vector = np.array([1,4,3, 2, 3, 4, 5, 6])\n",
        "# Create matrix \n",
        "matrix = np.array([[1, 2, 3,5],                  \n",
        "                   [4, 5, 6, 10],                 \n",
        "                   [7, 8, 9,25]])\n",
        "# Select third element of vector\n",
        "print(vector[6])\n",
        "\n",
        "# Select second row, second column \n",
        "print(matrix[1,3])\n"
      ],
      "metadata": {
        "colab": {
          "base_uri": "https://localhost:8080/"
        },
        "id": "UhteZQTeOZ5c",
        "outputId": "edd17a7c-fffb-4cd6-f877-148373873ee5"
      },
      "execution_count": null,
      "outputs": [
        {
          "output_type": "stream",
          "name": "stdout",
          "text": [
            "5\n",
            "10\n"
          ]
        }
      ]
    },
    {
      "cell_type": "code",
      "source": [
        "print(matrix[:1,:])\n",
        "print(vector[:6])"
      ],
      "metadata": {
        "colab": {
          "base_uri": "https://localhost:8080/"
        },
        "id": "5OhEm_m6P1Bx",
        "outputId": "068ec75f-7f5a-49a3-b39d-c10e5343c153"
      },
      "execution_count": null,
      "outputs": [
        {
          "output_type": "stream",
          "name": "stdout",
          "text": [
            "[[1 2 3 5]]\n",
            "[1 4 3 2 3 4]\n"
          ]
        }
      ]
    },
    {
      "cell_type": "markdown",
      "source": [
        "#1.5 Describing a Matrix (shape, size, dimensions of the matrix)"
      ],
      "metadata": {
        "id": "y4_C8uQXQgb0"
      }
    },
    {
      "cell_type": "code",
      "source": [
        "# Load library\n",
        "import numpy as np\n",
        "# Create matrix \n",
        "matrix = np.array([[1, 2, 3, 4],         \n",
        "                   [5, 6, 7, 8],                 \n",
        "                   [9, 10, 11, 12]])"
      ],
      "metadata": {
        "id": "Zkrte8egQZJY"
      },
      "execution_count": null,
      "outputs": []
    },
    {
      "cell_type": "code",
      "source": [
        "matrix.shape"
      ],
      "metadata": {
        "colab": {
          "base_uri": "https://localhost:8080/"
        },
        "id": "4pf7C0-eQwPR",
        "outputId": "440ddbda-9214-41b0-a17a-9b28a2a227d2"
      },
      "execution_count": null,
      "outputs": [
        {
          "output_type": "execute_result",
          "data": {
            "text/plain": [
              "(3, 4)"
            ]
          },
          "metadata": {},
          "execution_count": 29
        }
      ]
    },
    {
      "cell_type": "code",
      "source": [
        "matrix.size"
      ],
      "metadata": {
        "colab": {
          "base_uri": "https://localhost:8080/"
        },
        "id": "FnPmg8W0Q1Lh",
        "outputId": "f7bba7e2-581b-4bf0-99be-8cb3a8c9588c"
      },
      "execution_count": null,
      "outputs": [
        {
          "output_type": "execute_result",
          "data": {
            "text/plain": [
              "12"
            ]
          },
          "metadata": {},
          "execution_count": 30
        }
      ]
    },
    {
      "cell_type": "code",
      "source": [
        "# yếu tố hàng và cột\n",
        "matrix.ndim"
      ],
      "metadata": {
        "colab": {
          "base_uri": "https://localhost:8080/"
        },
        "id": "Yb-A_sIUQ2dJ",
        "outputId": "befd994c-dadb-4909-e5fa-da4ce8681f62"
      },
      "execution_count": null,
      "outputs": [
        {
          "output_type": "execute_result",
          "data": {
            "text/plain": [
              "2"
            ]
          },
          "metadata": {},
          "execution_count": 32
        }
      ]
    },
    {
      "cell_type": "markdown",
      "source": [
        "#1.6 Applying Operations to Elements"
      ],
      "metadata": {
        "id": "SJUNko3XRUFc"
      }
    },
    {
      "cell_type": "code",
      "source": [
        "# Load library \n",
        "import numpy as np\n",
        "# Create matrix \n",
        "matrix = np.array([[1, 2, 3],       \n",
        "                   [4, 5, 6],         \n",
        "                  [7, 8, 9]])\n",
        "# Create function that adds_100 to something\n",
        "add_100 = lambda i: i + 100\n",
        "# Create vectorized function (hàm vector hóa )\n",
        "vectorized_add_100 = np.vectorize(add_100)\n",
        "# Apply function to all elements in matrix \n",
        "vectorized_add_100(matrix)"
      ],
      "metadata": {
        "colab": {
          "base_uri": "https://localhost:8080/"
        },
        "id": "Y3Je7N8wQ5k_",
        "outputId": "353236c3-c013-4180-a47b-0599383a338f"
      },
      "execution_count": null,
      "outputs": [
        {
          "output_type": "execute_result",
          "data": {
            "text/plain": [
              "array([[101, 102, 103],\n",
              "       [104, 105, 106],\n",
              "       [107, 108, 109]])"
            ]
          },
          "metadata": {},
          "execution_count": 36
        }
      ]
    },
    {
      "cell_type": "code",
      "source": [
        "# hoặc là\n",
        "matrix +100"
      ],
      "metadata": {
        "colab": {
          "base_uri": "https://localhost:8080/"
        },
        "id": "yaHA0SmeSGbN",
        "outputId": "9abe0008-95c4-4c75-cc48-bcf375f111a7"
      },
      "execution_count": null,
      "outputs": [
        {
          "output_type": "execute_result",
          "data": {
            "text/plain": [
              "array([[101, 102, 103],\n",
              "       [104, 105, 106],\n",
              "       [107, 108, 109]])"
            ]
          },
          "metadata": {},
          "execution_count": 39
        }
      ]
    },
    {
      "cell_type": "markdown",
      "source": [
        "#1.7 Finding the Maximum and Minimum Values "
      ],
      "metadata": {
        "id": "iVXbrBf0Sk1t"
      }
    },
    {
      "cell_type": "markdown",
      "source": [
        ""
      ],
      "metadata": {
        "id": "6Snx50-oSF18"
      }
    },
    {
      "cell_type": "code",
      "source": [
        "# Load library\n",
        "import numpy as np\n",
        "# Create matrix \n",
        "matrix = np.array([[1, 2, 3],            \n",
        "                   [4, 5, 6],                \n",
        "                   [7, 8, 9]])\n",
        "# Return maximum element\n",
        "print(np.max(matrix))\n",
        "\n",
        "# Return minimum element \n",
        "print(np.min(matrix))\n"
      ],
      "metadata": {
        "colab": {
          "base_uri": "https://localhost:8080/"
        },
        "id": "CbScP-SNRrPM",
        "outputId": "9eeba29b-4fa9-49d3-9d9b-fe3d610d14a1"
      },
      "execution_count": null,
      "outputs": [
        {
          "output_type": "stream",
          "name": "stdout",
          "text": [
            "9\n",
            "1\n"
          ]
        }
      ]
    },
    {
      "cell_type": "code",
      "source": [
        "# Find maximum element in each column \n",
        "np.max(matrix, axis=1)"
      ],
      "metadata": {
        "colab": {
          "base_uri": "https://localhost:8080/"
        },
        "id": "Tuj4SXnLSuiD",
        "outputId": "34df2f71-3580-43ec-bc04-0b370631e2d6"
      },
      "execution_count": null,
      "outputs": [
        {
          "output_type": "execute_result",
          "data": {
            "text/plain": [
              "array([3, 6, 9])"
            ]
          },
          "metadata": {},
          "execution_count": 42
        }
      ]
    },
    {
      "cell_type": "code",
      "source": [
        "# Find maximum element in each column\n",
        "np.max(matrix, axis=0)"
      ],
      "metadata": {
        "colab": {
          "base_uri": "https://localhost:8080/"
        },
        "id": "MYvcAd7JS9yf",
        "outputId": "d6687300-c28d-4e48-8d5e-e310e18d4e36"
      },
      "execution_count": null,
      "outputs": [
        {
          "output_type": "execute_result",
          "data": {
            "text/plain": [
              "array([7, 8, 9])"
            ]
          },
          "metadata": {},
          "execution_count": 45
        }
      ]
    },
    {
      "cell_type": "markdown",
      "source": [
        "# 1.8 Calculating the Average, Variance, and Standard Deviation"
      ],
      "metadata": {
        "id": "OcfQElYmTGC9"
      }
    },
    {
      "cell_type": "code",
      "source": [
        "# Load library import numpy as np\n",
        "# Create matrix \n",
        "matrix = np.array([[1, 2, 3],   \n",
        "                  [4, 5, 6],         \n",
        "                   [7, 8, 9],\n",
        "                  [5,3,6]])"
      ],
      "metadata": {
        "id": "0EH3LZC1TDd5"
      },
      "execution_count": null,
      "outputs": []
    },
    {
      "cell_type": "code",
      "source": [
        "# Return mean (tb)\n",
        "np.mean(matrix)"
      ],
      "metadata": {
        "colab": {
          "base_uri": "https://localhost:8080/"
        },
        "id": "0GvbbxDfTL3p",
        "outputId": "d9b40a69-f0ca-4075-cefd-c83b51fa7a3e"
      },
      "execution_count": null,
      "outputs": [
        {
          "output_type": "execute_result",
          "data": {
            "text/plain": [
              "4.916666666666667"
            ]
          },
          "metadata": {},
          "execution_count": 52
        }
      ]
    },
    {
      "cell_type": "code",
      "source": [
        "# Return variance (phương sai)\n",
        "np.var(matrix)"
      ],
      "metadata": {
        "colab": {
          "base_uri": "https://localhost:8080/"
        },
        "id": "dPVt2hYdTW-E",
        "outputId": "575196ba-6a61-4ee8-9505-d5d7aefa5b10"
      },
      "execution_count": null,
      "outputs": [
        {
          "output_type": "execute_result",
          "data": {
            "text/plain": [
              "5.409722222222222"
            ]
          },
          "metadata": {},
          "execution_count": 53
        }
      ]
    },
    {
      "cell_type": "code",
      "source": [
        "# Return standard deviation\n",
        "np.std(matrix)"
      ],
      "metadata": {
        "colab": {
          "base_uri": "https://localhost:8080/"
        },
        "id": "M53ZqMVgTaFu",
        "outputId": "0f402d92-4580-4787-dfa8-386a12c53408"
      },
      "execution_count": null,
      "outputs": [
        {
          "output_type": "execute_result",
          "data": {
            "text/plain": [
              "2.3258809561588105"
            ]
          },
          "metadata": {},
          "execution_count": 55
        }
      ]
    },
    {
      "cell_type": "code",
      "source": [
        "# Find the mean value in each column\n",
        "np.mean(matrix, axis=0)"
      ],
      "metadata": {
        "colab": {
          "base_uri": "https://localhost:8080/"
        },
        "id": "qsp6EnmITnCZ",
        "outputId": "147335e3-2da5-448d-e137-48bd5108fe3d"
      },
      "execution_count": null,
      "outputs": [
        {
          "output_type": "execute_result",
          "data": {
            "text/plain": [
              "array([4.25, 4.5 , 6.  ])"
            ]
          },
          "metadata": {},
          "execution_count": 58
        }
      ]
    },
    {
      "cell_type": "markdown",
      "source": [
        "#1.9 Reshaping Arrays"
      ],
      "metadata": {
        "id": "2QoTIBOUT2Ek"
      }
    },
    {
      "cell_type": "code",
      "source": [
        "# Load library\n",
        "import numpy as np\n",
        "# Create 4x3 matrix\n",
        "matrix = np.array([[1, 2, 3],      \n",
        "                    [4, 5, 6],          \n",
        "                    [7, 8, 9],               \n",
        "                    [20, 15, 12]])\n",
        "# Reshape matrix into 2x6 matrix \n",
        "matrix.reshape(2, 6)"
      ],
      "metadata": {
        "colab": {
          "base_uri": "https://localhost:8080/"
        },
        "id": "-XcUUQWkTt9-",
        "outputId": "a3f4ed8f-5c37-408e-fafb-eee8b8a095ad"
      },
      "execution_count": null,
      "outputs": [
        {
          "output_type": "execute_result",
          "data": {
            "text/plain": [
              "array([[ 1,  2,  3,  4,  5,  6],\n",
              "       [ 7,  8,  9, 20, 15, 12]])"
            ]
          },
          "metadata": {},
          "execution_count": 60
        }
      ]
    },
    {
      "cell_type": "code",
      "source": [
        "matrix.reshape(1,12)"
      ],
      "metadata": {
        "colab": {
          "base_uri": "https://localhost:8080/"
        },
        "id": "CU3PzlnqT_RA",
        "outputId": "be3430f6-87c2-4db4-db86-aab27065c406"
      },
      "execution_count": null,
      "outputs": [
        {
          "output_type": "execute_result",
          "data": {
            "text/plain": [
              "array([[ 1,  2,  3,  4,  5,  6,  7,  8,  9, 20, 15, 12]])"
            ]
          },
          "metadata": {},
          "execution_count": 62
        }
      ]
    },
    {
      "cell_type": "markdown",
      "source": [
        "#1.10 Transposing a Vector or Matrix (ma trận chuyển đổi)"
      ],
      "metadata": {
        "id": "N-hLX5orUNOU"
      }
    },
    {
      "cell_type": "code",
      "source": [
        "# Load library\n",
        "import numpy as np\n",
        "# Create matrix \n",
        "matrix = np.array([[1, 2, 3],         \n",
        "                   [4, 5, 6],           \n",
        "                   [7, 8, 9]])\n",
        "# Transpose matrix \n",
        "matrix.T"
      ],
      "metadata": {
        "colab": {
          "base_uri": "https://localhost:8080/"
        },
        "id": "KCvaTZcpUJbr",
        "outputId": "2ae5e496-e381-4907-a2a0-e55b194c7765"
      },
      "execution_count": null,
      "outputs": [
        {
          "output_type": "execute_result",
          "data": {
            "text/plain": [
              "array([[1, 4, 7],\n",
              "       [2, 5, 8],\n",
              "       [3, 6, 9]])"
            ]
          },
          "metadata": {},
          "execution_count": 64
        }
      ]
    },
    {
      "cell_type": "markdown",
      "source": [
        "#1.11 Flattening a Matrix ( làm phẳng ma trận ) tạo thành mảng 1 chiều"
      ],
      "metadata": {
        "id": "KslvGYvLUrPE"
      }
    },
    {
      "cell_type": "code",
      "source": [
        "# Load library \n",
        "import numpy as np\n",
        "# Create matrix \n",
        "matrix = np.array([[1, 2, 3],             \n",
        "                   [4, 5, 6],                \n",
        "                   [7, 8, 9]])\n",
        "# Flatten matrix\n",
        "matrix.flatten()"
      ],
      "metadata": {
        "colab": {
          "base_uri": "https://localhost:8080/"
        },
        "id": "X6fOpldvUc5I",
        "outputId": "897a3480-e37a-4d9f-c0d1-49ea7ceb250c"
      },
      "execution_count": null,
      "outputs": [
        {
          "output_type": "execute_result",
          "data": {
            "text/plain": [
              "array([1, 2, 3, 4, 5, 6, 7, 8, 9])"
            ]
          },
          "metadata": {},
          "execution_count": 67
        }
      ]
    },
    {
      "cell_type": "code",
      "source": [
        "matrix.reshape(1,-1)"
      ],
      "metadata": {
        "colab": {
          "base_uri": "https://localhost:8080/"
        },
        "id": "krt1XmDQU4PR",
        "outputId": "dc4b1c93-fba1-4cc2-eb81-1dc24b9a1e1d"
      },
      "execution_count": null,
      "outputs": [
        {
          "output_type": "execute_result",
          "data": {
            "text/plain": [
              "array([[1, 2, 3, 4, 5, 6, 7, 8, 9]])"
            ]
          },
          "metadata": {},
          "execution_count": 68
        }
      ]
    },
    {
      "cell_type": "markdown",
      "source": [
        "#1.12 Finding the Rank of a Matrix (số hàng)"
      ],
      "metadata": {
        "id": "viHOWzQ7VE_8"
      }
    },
    {
      "cell_type": "code",
      "source": [
        "# Load library\n",
        "import numpy as np\n",
        "# Create matrix \n",
        "matrix = np.array([[1, 1, 1],                \n",
        "                   [1, 1, 10],                 \n",
        "                   [1, 1, 15]])\n",
        "# Return matrix rank \n",
        "np.linalg.matrix_rank(matrix)\n",
        "                      "
      ],
      "metadata": {
        "colab": {
          "base_uri": "https://localhost:8080/"
        },
        "id": "-S7F7hFsVC7K",
        "outputId": "177e303a-48d1-477e-d1c6-dc3e802de962"
      },
      "execution_count": null,
      "outputs": [
        {
          "output_type": "execute_result",
          "data": {
            "text/plain": [
              "2"
            ]
          },
          "metadata": {},
          "execution_count": 70
        }
      ]
    },
    {
      "cell_type": "code",
      "source": [
        "# Load library\n",
        "import numpy as np\n",
        "# Create matrix \n",
        "matrix = np.array([[1, 1, 1],                \n",
        "                   [1, 1, 10],                 \n",
        "                   [1, 1, 15],\n",
        "                   [3, 5, 6]])\n",
        "# Return matrix rank \n",
        "np.linalg.matrix_rank(matrix)\n",
        "                      "
      ],
      "metadata": {
        "colab": {
          "base_uri": "https://localhost:8080/"
        },
        "id": "YIucgufFVSgY",
        "outputId": "38a972f9-116a-4259-83c5-4ce78c771995"
      },
      "execution_count": null,
      "outputs": [
        {
          "output_type": "execute_result",
          "data": {
            "text/plain": [
              "3"
            ]
          },
          "metadata": {},
          "execution_count": 71
        }
      ]
    },
    {
      "cell_type": "code",
      "source": [
        "# Load library\n",
        "import numpy as np\n",
        "# Create matrix \n",
        "matrix = np.array([[1, 1, 1,2],                \n",
        "                   [1, 1, 10,3],                 \n",
        "                   ])\n",
        "# Return matrix rank \n",
        "np.linalg.matrix_rank(matrix)\n",
        "                      "
      ],
      "metadata": {
        "colab": {
          "base_uri": "https://localhost:8080/"
        },
        "id": "dzciBcMDVWPV",
        "outputId": "7f0cad22-38ec-4047-e5e1-fd79ef7353a8"
      },
      "execution_count": null,
      "outputs": [
        {
          "output_type": "execute_result",
          "data": {
            "text/plain": [
              "2"
            ]
          },
          "metadata": {},
          "execution_count": 73
        }
      ]
    },
    {
      "cell_type": "markdown",
      "source": [
        "#1.13 Calculating the Determinant (tính toán yếu tố quyết định)"
      ],
      "metadata": {
        "id": "97pCXfdFVio8"
      }
    },
    {
      "cell_type": "code",
      "source": [
        "# Load library\n",
        "import numpy as np\n",
        "# Create matrix \n",
        "matrix = np.array([[1, 2, 3],           \n",
        "                   [2, 4, 6],              \n",
        "                   [3, 8, 9]\n",
        "                   ])\n",
        "# Return determinant of matrix\n",
        "np.linalg.det(matrix\n",
        " )"
      ],
      "metadata": {
        "colab": {
          "base_uri": "https://localhost:8080/"
        },
        "id": "9oJwCXkoVaun",
        "outputId": "9023847d-08cf-4e73-9a90-0d600efc3171"
      },
      "execution_count": null,
      "outputs": [
        {
          "output_type": "execute_result",
          "data": {
            "text/plain": [
              "0.0"
            ]
          },
          "metadata": {},
          "execution_count": 79
        }
      ]
    },
    {
      "cell_type": "code",
      "source": [
        "# Load library\n",
        "import numpy as np\n",
        "# Create matrix \n",
        "matrix = np.array([[1, 2, 3,4],           \n",
        "                   [2, 4, 6,6],              \n",
        "                   [3, 8, 9,2],\n",
        "                   [3, 5, 4,2]\n",
        "                   ])\n",
        "# Return determinant of matrix\n",
        "np.linalg.det(matrix\n",
        " )"
      ],
      "metadata": {
        "colab": {
          "base_uri": "https://localhost:8080/"
        },
        "id": "Q61O6aqFV-6c",
        "outputId": "b27bd377-93cc-4f3d-e89a-639c2302dca0"
      },
      "execution_count": null,
      "outputs": [
        {
          "output_type": "execute_result",
          "data": {
            "text/plain": [
              "19.999999999999996"
            ]
          },
          "metadata": {},
          "execution_count": 80
        }
      ]
    },
    {
      "cell_type": "markdown",
      "source": [
        "#1.14 Getting the Diagonal of a Matrix ( lấy giá trị theo hình chéo trong ma trận)"
      ],
      "metadata": {
        "id": "C4BIsO2qWJSj"
      }
    },
    {
      "cell_type": "code",
      "source": [
        "# Load library \n",
        "import numpy as np\n",
        "# Create matrix \n",
        "matrix = np.array([[1, 2, 3],          \n",
        "                   [2, 4, 6],            \n",
        "                   [3, 8, 9]])\n",
        "# Return diagonal elements\n",
        "matrix.diagonal()"
      ],
      "metadata": {
        "colab": {
          "base_uri": "https://localhost:8080/"
        },
        "id": "Ojkfhi_mVtm8",
        "outputId": "fb1d0411-4ccf-4c09-965a-71ad40a4a5ab"
      },
      "execution_count": null,
      "outputs": [
        {
          "output_type": "execute_result",
          "data": {
            "text/plain": [
              "array([1, 4, 9])"
            ]
          },
          "metadata": {},
          "execution_count": 82
        }
      ]
    },
    {
      "cell_type": "code",
      "source": [
        "# Load library \n",
        "import numpy as np\n",
        "# Create matrix \n",
        "matrix = np.array([[1, 2, 3, 4],           \n",
        "                   [2, 4, 6 ,6],              \n",
        "                   [3, 8, 9, 2],\n",
        "                   [3, 5, 4, 2]\n",
        "                   ])\n",
        "# Return diagonal elements\n",
        "matrix.diagonal()"
      ],
      "metadata": {
        "colab": {
          "base_uri": "https://localhost:8080/"
        },
        "id": "ANot9tI7WZNv",
        "outputId": "09b5f575-9e01-4bb9-9cda-5191d687f5b6"
      },
      "execution_count": null,
      "outputs": [
        {
          "output_type": "execute_result",
          "data": {
            "text/plain": [
              "array([1, 4, 9, 2])"
            ]
          },
          "metadata": {},
          "execution_count": 84
        }
      ]
    },
    {
      "cell_type": "markdown",
      "source": [
        "#1.15 Calculating the Trace of a Matrix ( cộng các giá trị theo hình chéo)"
      ],
      "metadata": {
        "id": "wCRmrliSWjH8"
      }
    },
    {
      "cell_type": "code",
      "source": [
        "# Load library\n",
        "import numpy as np\n",
        "# Create matrix \n",
        "matrix = np.array([[1, 2, 3],        \n",
        "                   [2, 6, 6],       \n",
        "                   [3, 8, 9]])\n",
        "# Return trace \n",
        "matrix.trace()"
      ],
      "metadata": {
        "colab": {
          "base_uri": "https://localhost:8080/"
        },
        "id": "m_9attKvWiOv",
        "outputId": "960d9e2b-fd4e-42b7-9f06-8c51bc2f1a87"
      },
      "execution_count": null,
      "outputs": [
        {
          "output_type": "execute_result",
          "data": {
            "text/plain": [
              "16"
            ]
          },
          "metadata": {},
          "execution_count": 86
        }
      ]
    },
    {
      "cell_type": "code",
      "source": [
        "# Load library\n",
        "import numpy as np\n",
        "# Create matrix \n",
        "matrix = np.array([[1, 2, 3, 8],        \n",
        "                   [2, 6, 6, 5],       \n",
        "                   [3, 8, 9, 4],\n",
        "                   [5, 6, 7, 1]])\n",
        "# Return trace \n",
        "matrix.trace()"
      ],
      "metadata": {
        "colab": {
          "base_uri": "https://localhost:8080/"
        },
        "id": "CO3fjF7iW13e",
        "outputId": "9c4803e4-ad3f-417b-eb45-a7fecad54216"
      },
      "execution_count": null,
      "outputs": [
        {
          "output_type": "execute_result",
          "data": {
            "text/plain": [
              "17"
            ]
          },
          "metadata": {},
          "execution_count": 87
        }
      ]
    },
    {
      "cell_type": "markdown",
      "source": [
        "#1.16 Finding Eigenvalues and Eigenvectors:"
      ],
      "metadata": {
        "id": "Bxs4PXN6XA5N"
      }
    },
    {
      "cell_type": "code",
      "source": [
        "# Load library\n",
        "import numpy as np\n",
        "# Create matrix \n",
        "matrix = np.array([[1, -1, 3],             \n",
        "                   [1, 1, 6],            \n",
        "                   [3, 8, 9]])\n",
        "# Calculate eigenvalues and eigenvectors\n",
        "eigenvalues, eigenvectors = np.linalg.eig(matrix)\n",
        "# View eigenvalues\n",
        "print( eigenvalues)\n",
        "print()\n",
        "print()\n",
        "# View eigenvectors \n",
        "print(eigenvectors)"
      ],
      "metadata": {
        "colab": {
          "base_uri": "https://localhost:8080/"
        },
        "id": "6CEKn_yEW-Zo",
        "outputId": "6f642b4a-bc5a-4d9a-8cac-52dfa7c407ae"
      },
      "execution_count": null,
      "outputs": [
        {
          "output_type": "stream",
          "name": "stdout",
          "text": [
            "[13.55075847  0.74003145 -3.29078992]\n",
            "\n",
            "\n",
            "[[-0.17622017 -0.96677403 -0.53373322]\n",
            " [-0.435951    0.2053623  -0.64324848]\n",
            " [-0.88254925  0.15223105  0.54896288]]\n"
          ]
        }
      ]
    },
    {
      "cell_type": "markdown",
      "source": [
        "#1.17 Calculating Dot Products ( nhân 2 vector lại)"
      ],
      "metadata": {
        "id": "U0Obt_KhXw1t"
      }
    },
    {
      "cell_type": "code",
      "source": [
        "# Load library \n",
        "import numpy as np\n",
        "# Create two vectors\n",
        "vector_a = np.array([1,2,3]) \n",
        "vector_b = np.array([4,5,6])\n",
        "# Calculate dot product\n",
        "np.dot(vector_a, vector_b)\n",
        "# 1*4 + 2*5 +3*6 =32"
      ],
      "metadata": {
        "colab": {
          "base_uri": "https://localhost:8080/"
        },
        "id": "JhWZrAQTXUgz",
        "outputId": "975a54e6-4b4c-4116-d243-2a1a35e12a38"
      },
      "execution_count": null,
      "outputs": [
        {
          "output_type": "execute_result",
          "data": {
            "text/plain": [
              "32"
            ]
          },
          "metadata": {},
          "execution_count": 93
        }
      ]
    },
    {
      "cell_type": "markdown",
      "source": [
        "#1.18 Adding and Subtracting Matrices ( thêm và trừ ma trận)\n"
      ],
      "metadata": {
        "id": "B9DRaWmgYlwd"
      }
    },
    {
      "cell_type": "code",
      "source": [
        "# Load library\n",
        "import numpy as np\n",
        "# Create matrix\n",
        "matrix_a = np.array([[1, 1, 1],                  \n",
        "                      [1, 1, 1],                \n",
        "                      [1, 1, 2]])\n",
        " \n",
        "matrix_b = np.array([[1, 3, 1],      \n",
        "                     [1, 3, 1],          \n",
        "                     [1, 3, 8]])\n",
        "# Add two matrices\n",
        "print(np.add(matrix_a, matrix_b))\n",
        "print()\n",
        "print()\n",
        "# Subtract two matrices\n",
        "print(np.subtract(matrix_a, matrix_b))\n"
      ],
      "metadata": {
        "colab": {
          "base_uri": "https://localhost:8080/"
        },
        "id": "DvTxptWxYW-c",
        "outputId": "bac92e0e-ed9b-478c-b025-2de32c085df9"
      },
      "execution_count": null,
      "outputs": [
        {
          "output_type": "stream",
          "name": "stdout",
          "text": [
            "[[ 2  4  2]\n",
            " [ 2  4  2]\n",
            " [ 2  4 10]]\n",
            "\n",
            "\n",
            "[[ 0 -2  0]\n",
            " [ 0 -2  0]\n",
            " [ 0 -2 -6]]\n"
          ]
        }
      ]
    },
    {
      "cell_type": "markdown",
      "source": [
        "#1.19 Multiplying Matrices( nhân ma trận)"
      ],
      "metadata": {
        "id": "2Q-ubiZRZIHs"
      }
    },
    {
      "cell_type": "code",
      "source": [
        "# Load library\n",
        "import numpy as np\n",
        "# Create matrix\n",
        "matrix_a = np.array([[1, 1],    \n",
        "                      [1, 2]])\n",
        "matrix_b = np.array([[1, 3],    \n",
        "                     [1, 2]])\n",
        "# Multiply two matrices np.dot(matrix_a, matrix_b)\n",
        "print(np.dot(matrix_a,matrix_b))\n",
        "# 1*1 +1*1 =2\n",
        "# 1*1 + 2*1 = 3\n",
        "# 1*3 +1*2 = 5\n",
        "#  1*3 + 2*2 = 7"
      ],
      "metadata": {
        "colab": {
          "base_uri": "https://localhost:8080/"
        },
        "id": "OMP4nd-lY9f-",
        "outputId": "7b15da96-c1f2-4dc1-e832-3ce5658df30c"
      },
      "execution_count": null,
      "outputs": [
        {
          "output_type": "stream",
          "name": "stdout",
          "text": [
            "[[2 5]\n",
            " [3 7]]\n"
          ]
        }
      ]
    },
    {
      "cell_type": "markdown",
      "source": [
        "#1.20 Inverting a Matrix ( ma trận đảo) phải là ma trận vuông"
      ],
      "metadata": {
        "id": "X32d6rKdabTc"
      }
    },
    {
      "cell_type": "code",
      "source": [
        "# Load library \n",
        "import numpy as np\n",
        "# Create matrix\n",
        "matrix = np.array([[1, 4],     \n",
        "                    [2, 5]])\n",
        "# Calculate inverse of matrix\n",
        "np.linalg.inv(matrix)"
      ],
      "metadata": {
        "colab": {
          "base_uri": "https://localhost:8080/"
        },
        "id": "oomwmSh9a-2z",
        "outputId": "85e3c91c-65c1-49e0-e9f4-d71f76a12a13"
      },
      "execution_count": null,
      "outputs": [
        {
          "output_type": "execute_result",
          "data": {
            "text/plain": [
              "array([[-1.66666667,  1.33333333],\n",
              "       [ 0.66666667, -0.33333333]])"
            ]
          },
          "metadata": {},
          "execution_count": 101
        }
      ]
    },
    {
      "cell_type": "code",
      "source": [
        "# Load library\n",
        "import numpy as np\n",
        "# Create matrix\n",
        "matrix = np.array([[1, 3, 8],        \n",
        "                    [2, 5, 7],\n",
        "                    [4, 2, 9]])\n",
        "# Calculate inverse of matrix \n",
        "np.linalg.inv(matrix)"
      ],
      "metadata": {
        "colab": {
          "base_uri": "https://localhost:8080/"
        },
        "id": "nD0LpSVhZWpS",
        "outputId": "f675f6d0-9335-4b2c-de9e-8b3dd47bde70"
      },
      "execution_count": null,
      "outputs": [
        {
          "output_type": "execute_result",
          "data": {
            "text/plain": [
              "array([[-0.46268657,  0.1641791 ,  0.28358209],\n",
              "       [-0.14925373,  0.34328358, -0.13432836],\n",
              "       [ 0.23880597, -0.14925373,  0.01492537]])"
            ]
          },
          "metadata": {},
          "execution_count": 103
        }
      ]
    },
    {
      "cell_type": "markdown",
      "source": [
        "# 1.21 Generating Random Values (tạo giá trị ngẫu nhiên)"
      ],
      "metadata": {
        "id": "9CYlyidjbMyD"
      }
    },
    {
      "cell_type": "code",
      "source": [
        "# Load library\n",
        "import numpy as np\n",
        "# 0 giá trị\n",
        "print(np.random.seed(0))\n",
        "# Generate three random floats between 0.0 and 1.0 \n",
        "print(np.random.random(3))"
      ],
      "metadata": {
        "colab": {
          "base_uri": "https://localhost:8080/"
        },
        "id": "-XPkQ7uSa-WE",
        "outputId": "7638ac42-f55d-42c5-8782-1ab6e11a88de"
      },
      "execution_count": null,
      "outputs": [
        {
          "output_type": "stream",
          "name": "stdout",
          "text": [
            "None\n",
            "[0.5488135  0.71518937 0.60276338]\n"
          ]
        }
      ]
    },
    {
      "cell_type": "code",
      "source": [
        "# Generate 3 values random integers between 1 and 10 \n",
        "np.random.randint(0, 11, 3)\n"
      ],
      "metadata": {
        "colab": {
          "base_uri": "https://localhost:8080/"
        },
        "id": "DljPlHEgbVoY",
        "outputId": "4a915ba9-9066-4eed-fafb-bf630bdf50a0"
      },
      "execution_count": null,
      "outputs": [
        {
          "output_type": "execute_result",
          "data": {
            "text/plain": [
              "array([3, 7, 9])"
            ]
          },
          "metadata": {},
          "execution_count": 107
        }
      ]
    },
    {
      "cell_type": "markdown",
      "source": [
        "# chapter 2 Loading data"
      ],
      "metadata": {
        "id": "-bGBtbxoFobo"
      }
    },
    {
      "cell_type": "markdown",
      "source": [
        "#2.1 loading a sample dataset"
      ],
      "metadata": {
        "id": "lhrUPjEYFvK3"
      }
    },
    {
      "cell_type": "code",
      "source": [
        "# Load scikit-learn's datasets \n",
        "from sklearn import datasets\n",
        "# Load digits dataset \n",
        "digits = datasets.load_digits()\n",
        "# Create features matrix \n",
        "features = digits.data"
      ],
      "metadata": {
        "id": "B3A5BV-yblqR"
      },
      "execution_count": 2,
      "outputs": []
    },
    {
      "cell_type": "code",
      "source": [
        "features"
      ],
      "metadata": {
        "colab": {
          "base_uri": "https://localhost:8080/"
        },
        "id": "Mb_RTVKQF9T9",
        "outputId": "0621a71b-dfe9-4651-e2ba-7d28e07a322d"
      },
      "execution_count": 3,
      "outputs": [
        {
          "output_type": "execute_result",
          "data": {
            "text/plain": [
              "array([[ 0.,  0.,  5., ...,  0.,  0.,  0.],\n",
              "       [ 0.,  0.,  0., ..., 10.,  0.,  0.],\n",
              "       [ 0.,  0.,  0., ..., 16.,  9.,  0.],\n",
              "       ...,\n",
              "       [ 0.,  0.,  1., ...,  6.,  0.,  0.],\n",
              "       [ 0.,  0.,  2., ..., 12.,  0.,  0.],\n",
              "       [ 0.,  0., 10., ..., 12.,  1.,  0.]])"
            ]
          },
          "metadata": {},
          "execution_count": 3
        }
      ]
    },
    {
      "cell_type": "code",
      "source": [
        "digits"
      ],
      "metadata": {
        "colab": {
          "base_uri": "https://localhost:8080/"
        },
        "id": "h1dIm2SZF-q2",
        "outputId": "7615a091-3389-4170-d2f1-b4d2a952f4b3"
      },
      "execution_count": 4,
      "outputs": [
        {
          "output_type": "execute_result",
          "data": {
            "text/plain": [
              "{'DESCR': \".. _digits_dataset:\\n\\nOptical recognition of handwritten digits dataset\\n--------------------------------------------------\\n\\n**Data Set Characteristics:**\\n\\n    :Number of Instances: 1797\\n    :Number of Attributes: 64\\n    :Attribute Information: 8x8 image of integer pixels in the range 0..16.\\n    :Missing Attribute Values: None\\n    :Creator: E. Alpaydin (alpaydin '@' boun.edu.tr)\\n    :Date: July; 1998\\n\\nThis is a copy of the test set of the UCI ML hand-written digits datasets\\nhttps://archive.ics.uci.edu/ml/datasets/Optical+Recognition+of+Handwritten+Digits\\n\\nThe data set contains images of hand-written digits: 10 classes where\\neach class refers to a digit.\\n\\nPreprocessing programs made available by NIST were used to extract\\nnormalized bitmaps of handwritten digits from a preprinted form. From a\\ntotal of 43 people, 30 contributed to the training set and different 13\\nto the test set. 32x32 bitmaps are divided into nonoverlapping blocks of\\n4x4 and the number of on pixels are counted in each block. This generates\\nan input matrix of 8x8 where each element is an integer in the range\\n0..16. This reduces dimensionality and gives invariance to small\\ndistortions.\\n\\nFor info on NIST preprocessing routines, see M. D. Garris, J. L. Blue, G.\\nT. Candela, D. L. Dimmick, J. Geist, P. J. Grother, S. A. Janet, and C.\\nL. Wilson, NIST Form-Based Handprint Recognition System, NISTIR 5469,\\n1994.\\n\\n.. topic:: References\\n\\n  - C. Kaynak (1995) Methods of Combining Multiple Classifiers and Their\\n    Applications to Handwritten Digit Recognition, MSc Thesis, Institute of\\n    Graduate Studies in Science and Engineering, Bogazici University.\\n  - E. Alpaydin, C. Kaynak (1998) Cascading Classifiers, Kybernetika.\\n  - Ken Tang and Ponnuthurai N. Suganthan and Xi Yao and A. Kai Qin.\\n    Linear dimensionalityreduction using relevance weighted LDA. School of\\n    Electrical and Electronic Engineering Nanyang Technological University.\\n    2005.\\n  - Claudio Gentile. A New Approximate Maximal Margin Classification\\n    Algorithm. NIPS. 2000.\\n\",\n",
              " 'data': array([[ 0.,  0.,  5., ...,  0.,  0.,  0.],\n",
              "        [ 0.,  0.,  0., ..., 10.,  0.,  0.],\n",
              "        [ 0.,  0.,  0., ..., 16.,  9.,  0.],\n",
              "        ...,\n",
              "        [ 0.,  0.,  1., ...,  6.,  0.,  0.],\n",
              "        [ 0.,  0.,  2., ..., 12.,  0.,  0.],\n",
              "        [ 0.,  0., 10., ..., 12.,  1.,  0.]]),\n",
              " 'feature_names': ['pixel_0_0',\n",
              "  'pixel_0_1',\n",
              "  'pixel_0_2',\n",
              "  'pixel_0_3',\n",
              "  'pixel_0_4',\n",
              "  'pixel_0_5',\n",
              "  'pixel_0_6',\n",
              "  'pixel_0_7',\n",
              "  'pixel_1_0',\n",
              "  'pixel_1_1',\n",
              "  'pixel_1_2',\n",
              "  'pixel_1_3',\n",
              "  'pixel_1_4',\n",
              "  'pixel_1_5',\n",
              "  'pixel_1_6',\n",
              "  'pixel_1_7',\n",
              "  'pixel_2_0',\n",
              "  'pixel_2_1',\n",
              "  'pixel_2_2',\n",
              "  'pixel_2_3',\n",
              "  'pixel_2_4',\n",
              "  'pixel_2_5',\n",
              "  'pixel_2_6',\n",
              "  'pixel_2_7',\n",
              "  'pixel_3_0',\n",
              "  'pixel_3_1',\n",
              "  'pixel_3_2',\n",
              "  'pixel_3_3',\n",
              "  'pixel_3_4',\n",
              "  'pixel_3_5',\n",
              "  'pixel_3_6',\n",
              "  'pixel_3_7',\n",
              "  'pixel_4_0',\n",
              "  'pixel_4_1',\n",
              "  'pixel_4_2',\n",
              "  'pixel_4_3',\n",
              "  'pixel_4_4',\n",
              "  'pixel_4_5',\n",
              "  'pixel_4_6',\n",
              "  'pixel_4_7',\n",
              "  'pixel_5_0',\n",
              "  'pixel_5_1',\n",
              "  'pixel_5_2',\n",
              "  'pixel_5_3',\n",
              "  'pixel_5_4',\n",
              "  'pixel_5_5',\n",
              "  'pixel_5_6',\n",
              "  'pixel_5_7',\n",
              "  'pixel_6_0',\n",
              "  'pixel_6_1',\n",
              "  'pixel_6_2',\n",
              "  'pixel_6_3',\n",
              "  'pixel_6_4',\n",
              "  'pixel_6_5',\n",
              "  'pixel_6_6',\n",
              "  'pixel_6_7',\n",
              "  'pixel_7_0',\n",
              "  'pixel_7_1',\n",
              "  'pixel_7_2',\n",
              "  'pixel_7_3',\n",
              "  'pixel_7_4',\n",
              "  'pixel_7_5',\n",
              "  'pixel_7_6',\n",
              "  'pixel_7_7'],\n",
              " 'frame': None,\n",
              " 'images': array([[[ 0.,  0.,  5., ...,  1.,  0.,  0.],\n",
              "         [ 0.,  0., 13., ..., 15.,  5.,  0.],\n",
              "         [ 0.,  3., 15., ..., 11.,  8.,  0.],\n",
              "         ...,\n",
              "         [ 0.,  4., 11., ..., 12.,  7.,  0.],\n",
              "         [ 0.,  2., 14., ..., 12.,  0.,  0.],\n",
              "         [ 0.,  0.,  6., ...,  0.,  0.,  0.]],\n",
              " \n",
              "        [[ 0.,  0.,  0., ...,  5.,  0.,  0.],\n",
              "         [ 0.,  0.,  0., ...,  9.,  0.,  0.],\n",
              "         [ 0.,  0.,  3., ...,  6.,  0.,  0.],\n",
              "         ...,\n",
              "         [ 0.,  0.,  1., ...,  6.,  0.,  0.],\n",
              "         [ 0.,  0.,  1., ...,  6.,  0.,  0.],\n",
              "         [ 0.,  0.,  0., ..., 10.,  0.,  0.]],\n",
              " \n",
              "        [[ 0.,  0.,  0., ..., 12.,  0.,  0.],\n",
              "         [ 0.,  0.,  3., ..., 14.,  0.,  0.],\n",
              "         [ 0.,  0.,  8., ..., 16.,  0.,  0.],\n",
              "         ...,\n",
              "         [ 0.,  9., 16., ...,  0.,  0.,  0.],\n",
              "         [ 0.,  3., 13., ..., 11.,  5.,  0.],\n",
              "         [ 0.,  0.,  0., ..., 16.,  9.,  0.]],\n",
              " \n",
              "        ...,\n",
              " \n",
              "        [[ 0.,  0.,  1., ...,  1.,  0.,  0.],\n",
              "         [ 0.,  0., 13., ...,  2.,  1.,  0.],\n",
              "         [ 0.,  0., 16., ..., 16.,  5.,  0.],\n",
              "         ...,\n",
              "         [ 0.,  0., 16., ..., 15.,  0.,  0.],\n",
              "         [ 0.,  0., 15., ..., 16.,  0.,  0.],\n",
              "         [ 0.,  0.,  2., ...,  6.,  0.,  0.]],\n",
              " \n",
              "        [[ 0.,  0.,  2., ...,  0.,  0.,  0.],\n",
              "         [ 0.,  0., 14., ..., 15.,  1.,  0.],\n",
              "         [ 0.,  4., 16., ..., 16.,  7.,  0.],\n",
              "         ...,\n",
              "         [ 0.,  0.,  0., ..., 16.,  2.,  0.],\n",
              "         [ 0.,  0.,  4., ..., 16.,  2.,  0.],\n",
              "         [ 0.,  0.,  5., ..., 12.,  0.,  0.]],\n",
              " \n",
              "        [[ 0.,  0., 10., ...,  1.,  0.,  0.],\n",
              "         [ 0.,  2., 16., ...,  1.,  0.,  0.],\n",
              "         [ 0.,  0., 15., ..., 15.,  0.,  0.],\n",
              "         ...,\n",
              "         [ 0.,  4., 16., ..., 16.,  6.,  0.],\n",
              "         [ 0.,  8., 16., ..., 16.,  8.,  0.],\n",
              "         [ 0.,  1.,  8., ..., 12.,  1.,  0.]]]),\n",
              " 'target': array([0, 1, 2, ..., 8, 9, 8]),\n",
              " 'target_names': array([0, 1, 2, 3, 4, 5, 6, 7, 8, 9])}"
            ]
          },
          "metadata": {},
          "execution_count": 4
        }
      ]
    },
    {
      "cell_type": "code",
      "source": [
        "# Create target vector \n",
        "target = digits.target\n",
        "# View first observation\n",
        "features[0]\n",
        "print(target)\n",
        "print()\n",
        "print(features[0])"
      ],
      "metadata": {
        "colab": {
          "base_uri": "https://localhost:8080/"
        },
        "id": "ddZxiEeqGA6V",
        "outputId": "a59a9a61-07ce-4eb0-f6ba-6b8cfc0e4966"
      },
      "execution_count": 7,
      "outputs": [
        {
          "output_type": "stream",
          "name": "stdout",
          "text": [
            "[0 1 2 ... 8 9 8]\n",
            "\n",
            "[ 0.  0.  5. 13.  9.  1.  0.  0.  0.  0. 13. 15. 10. 15.  5.  0.  0.  3.\n",
            " 15.  2.  0. 11.  8.  0.  0.  4. 12.  0.  0.  8.  8.  0.  0.  5.  8.  0.\n",
            "  0.  9.  8.  0.  0.  4. 11.  0.  1. 12.  7.  0.  0.  2. 14.  5. 10. 12.\n",
            "  0.  0.  0.  0.  6. 13. 10.  0.  0.  0.]\n"
          ]
        }
      ]
    },
    {
      "cell_type": "markdown",
      "source": [
        "#2.2 Creating a Simulated Dataset"
      ],
      "metadata": {
        "id": "BrWB_S1wGeZQ"
      }
    },
    {
      "cell_type": "code",
      "source": [
        "# Load library\n",
        "from sklearn.datasets import make_regression\n",
        "# Generate features matrix, target vector, and the true coefficients (hệ số)\n",
        "features, target, coefficients = make_regression(n_samples = 100,                                        \n",
        "                                                 n_features = 3,           \n",
        "                                                 n_informative = 3,                       \n",
        "                                                 n_targets = 1,                                 \n",
        "                                                 noise = 0.0,                                  \n",
        "                                                 coef = True,                                 \n",
        "                                                 random_state = 1)\n",
        "# View feature matrix and target vector \n",
        "print('Feature Matrix\\n', features[:3])\n",
        "print('Target Vector\\n', target[:3])"
      ],
      "metadata": {
        "colab": {
          "base_uri": "https://localhost:8080/"
        },
        "id": "Hx4m0NNjGOnZ",
        "outputId": "d8d5a75b-ba3b-4637-9f80-e609bec735fa"
      },
      "execution_count": 8,
      "outputs": [
        {
          "output_type": "stream",
          "name": "stdout",
          "text": [
            "Feature Matrix\n",
            " [[ 1.29322588 -0.61736206 -0.11044703]\n",
            " [-2.793085    0.36633201  1.93752881]\n",
            " [ 0.80186103 -0.18656977  0.0465673 ]]\n",
            "Target Vector\n",
            " [-10.37865986  25.5124503   19.67705609]\n"
          ]
        }
      ]
    },
    {
      "cell_type": "code",
      "source": [
        "#If we are interested in creating a simulated dataset for classification, we can use make_classification:\n",
        "# Load library \n",
        "from sklearn.datasets import make_classification\n",
        "# Generate(find) features matrix and target vector \n",
        "features, target = make_classification(n_samples = 100,  \n",
        "                                       n_features = 3,        \n",
        "                                       n_informative = 3,      \n",
        "                                       n_redundant = 0,      #dư thừa   \n",
        "                                       n_classes = 2,            \n",
        "                                       weights = [.25, .75],      \n",
        "                                       random_state = 1)\n",
        "# View feature matrix and target vector\n",
        "print('Feature Matrix\\n', features[:3]) \n",
        "print('Target Vector\\n', target[:3])"
      ],
      "metadata": {
        "colab": {
          "base_uri": "https://localhost:8080/"
        },
        "id": "wqn96Nt3HCnN",
        "outputId": "44dc68b9-5cb0-40b6-a100-e2ee65d106b2"
      },
      "execution_count": 10,
      "outputs": [
        {
          "output_type": "stream",
          "name": "stdout",
          "text": [
            "Feature Matrix\n",
            " [[ 1.06354768 -1.42632219  1.02163151]\n",
            " [ 0.23156977  1.49535261  0.33251578]\n",
            " [ 0.15972951  0.83533515 -0.40869554]]\n",
            "Target Vector\n",
            " [1 0 0]\n"
          ]
        }
      ]
    },
    {
      "cell_type": "markdown",
      "source": [
        "#Finally, if we want a dataset designed to work well with clustering techniques, scikitlearn offers make_blobs:"
      ],
      "metadata": {
        "id": "RM7qu1RdHBdG"
      }
    },
    {
      "cell_type": "code",
      "source": [
        "# Load library\n",
        "from sklearn.datasets import make_blobs\n",
        "# Generate feature matrix and target vector\n",
        "features, target = make_blobs(n_samples = 100,           \n",
        "                               n_features = 2,             \n",
        "                               centers = 3,                 \n",
        "                               cluster_std = 0.5,           \n",
        "                               shuffle = True,                 \n",
        "                               random_state = 1)\n",
        "# View feature matrix and target vector \n",
        "print('Feature Matrix\\n', features[:3]) \n",
        "print()\n",
        "print('Target Vector\\n', target[:3])"
      ],
      "metadata": {
        "colab": {
          "base_uri": "https://localhost:8080/"
        },
        "id": "yCP1wCAYIUP2",
        "outputId": "474104f1-2cc8-4a2a-80f5-30f944a8eba3"
      },
      "execution_count": 14,
      "outputs": [
        {
          "output_type": "stream",
          "name": "stdout",
          "text": [
            "Feature Matrix\n",
            " [[ -1.22685609   3.25572052]\n",
            " [ -9.57463218  -4.38310652]\n",
            " [-10.71976941  -4.20558148]]\n",
            "\n",
            "Target Vector\n",
            " [0 1 1]\n"
          ]
        }
      ]
    },
    {
      "cell_type": "code",
      "source": [
        "# Load library \n",
        "import matplotlib.pyplot as plt\n",
        "# View scatterplot \n",
        "plt.scatter(features[:,0], features[:,1], c=target) \n",
        "plt.show()"
      ],
      "metadata": {
        "colab": {
          "base_uri": "https://localhost:8080/",
          "height": 267
        },
        "id": "JpmKU6oCIcbY",
        "outputId": "023b12ec-9745-43e3-d46e-d787ee1b67b1"
      },
      "execution_count": 15,
      "outputs": [
        {
          "output_type": "display_data",
          "data": {
            "text/plain": [
              "<Figure size 432x288 with 1 Axes>"
            ],
            "image/png": "[encoded data removed]"
          },
          "metadata": {
            "needs_background": "light"
          }
        }
      ]
    },
    {
      "cell_type": "code",
      "source": [
        "from sklearn.datasets import make_classification\n",
        "# Generate(find) features matrix and target vector \n",
        "features, target = make_classification(n_samples = 100,  \n",
        "                                       n_features = 3,        \n",
        "                                       n_informative = 3,      \n",
        "                                       n_redundant = 0,      #dư thừa   \n",
        "                                       n_classes = 2,            \n",
        "                                       weights = [.25, .75],      \n",
        "                                       random_state = 1)\n",
        "# View feature matrix and target vector\n",
        "print('Feature Matrix\\n', features[:3]) \n",
        "print('Target Vector\\n', target[:3])\n",
        "# Load library \n",
        "import matplotlib.pyplot as plt\n",
        "# View scatterplot \n",
        "plt.scatter(features[:,0], features[:,1], c=target) \n",
        "plt.show()"
      ],
      "metadata": {
        "colab": {
          "base_uri": "https://localhost:8080/",
          "height": 369
        },
        "id": "_bX2_qHoI4lG",
        "outputId": "366902ef-5800-4cf4-ac9d-33891b094172"
      },
      "execution_count": 16,
      "outputs": [
        {
          "output_type": "stream",
          "name": "stdout",
          "text": [
            "Feature Matrix\n",
            " [[ 1.06354768 -1.42632219  1.02163151]\n",
            " [ 0.23156977  1.49535261  0.33251578]\n",
            " [ 0.15972951  0.83533515 -0.40869554]]\n",
            "Target Vector\n",
            " [1 0 0]\n"
          ]
        },
        {
          "output_type": "display_data",
          "data": {
            "text/plain": [
              "<Figure size 432x288 with 1 Axes>"
            ],
            "image/png": "[encoded data removed]"
          },
          "metadata": {
            "needs_background": "light"
          }
        }
      ]
    },
    {
      "cell_type": "markdown",
      "source": [
        "#2.3 Loading a CSV File "
      ],
      "metadata": {
        "id": "vz6Z0I3BI_CY"
      }
    },
    {
      "cell_type": "code",
      "source": [
        "# Load library \n",
        "import pandas as pd\n",
        "# Create URL \n",
        "url = '/content/Salary_Data.csv'\n",
        "# Load dataset \n",
        "dataframe = pd.read_csv(url)\n",
        "# View first two rows \n",
        "dataframe.head(2)\n"
      ],
      "metadata": {
        "colab": {
          "base_uri": "https://localhost:8080/",
          "height": 112
        },
        "id": "h2Ki51bmI6Hi",
        "outputId": "1062c199-aad9-425d-c8fb-34836aae6fdc"
      },
      "execution_count": 17,
      "outputs": [
        {
          "output_type": "execute_result",
          "data": {
            "text/plain": [
              "   YearsExperience   Salary\n",
              "0              1.1  39343.0\n",
              "1              1.3  46205.0"
            ],
            "text/html": [
              "\n",
              "  <div id=\"df-927b382b-8cfb-42ba-915a-6ab2ad04aa46\">\n",
              "    <div class=\"colab-df-container\">\n",
              "      <div>\n",
              "<style scoped>\n",
              "    .dataframe tbody tr th:only-of-type {\n",
              "        vertical-align: middle;\n",
              "    }\n",
              "\n",
              "    .dataframe tbody tr th {\n",
              "        vertical-align: top;\n",
              "    }\n",
              "\n",
              "    .dataframe thead th {\n",
              "        text-align: right;\n",
              "    }\n",
              "</style>\n",
              "<table border=\"1\" class=\"dataframe\">\n",
              "  <thead>\n",
              "    <tr style=\"text-align: right;\">\n",
              "      <th></th>\n",
              "      <th>YearsExperience</th>\n",
              "      <th>Salary</th>\n",
              "    </tr>\n",
              "  </thead>\n",
              "  <tbody>\n",
              "    <tr>\n",
              "      <th>0</th>\n",
              "      <td>1.1</td>\n",
              "      <td>39343.0</td>\n",
              "    </tr>\n",
              "    <tr>\n",
              "      <th>1</th>\n",
              "      <td>1.3</td>\n",
              "      <td>46205.0</td>\n",
              "    </tr>\n",
              "  </tbody>\n",
              "</table>\n",
              "</div>\n",
              "      <button class=\"colab-df-convert\" onclick=\"convertToInteractive('df-927b382b-8cfb-42ba-915a-6ab2ad04aa46')\"\n",
              "              title=\"Convert this dataframe to an interactive table.\"\n",
              "              style=\"display:none;\">\n",
              "        \n",
              "  <svg xmlns=\"http://www.w3.org/2000/svg\" height=\"24px\"viewBox=\"0 0 24 24\"\n",
              "       width=\"24px\">\n",
              "    <path d=\"M0 0h24v24H0V0z\" fill=\"none\"/>\n",
              "    <path d=\"M18.56 5.44l.94 2.06.94-2.06 2.06-.94-2.06-.94-.94-2.06-.94 2.06-2.06.94zm-11 1L8.5 8.5l.94-2.06 2.06-.94-2.06-.94L8.5 2.5l-.94 2.06-2.06.94zm10 10l.94 2.06.94-2.06 2.06-.94-2.06-.94-.94-2.06-.94 2.06-2.06.94z\"/><path d=\"M17.41 7.96l-1.37-1.37c-.4-.4-.92-.59-1.43-.59-.52 0-1.04.2-1.43.59L10.3 9.45l-7.72 7.72c-.78.78-.78 2.05 0 2.83L4 21.41c.39.39.9.59 1.41.59.51 0 1.02-.2 1.41-.59l7.78-7.78 2.81-2.81c.8-.78.8-2.07 0-2.86zM5.41 20L4 18.59l7.72-7.72 1.47 1.35L5.41 20z\"/>\n",
              "  </svg>\n",
              "      </button>\n",
              "      \n",
              "  <style>\n",
              "    .colab-df-container {\n",
              "      display:flex;\n",
              "      flex-wrap:wrap;\n",
              "      gap: 12px;\n",
              "    }\n",
              "\n",
              "    .colab-df-convert {\n",
              "      background-color: #E8F0FE;\n",
              "      border: none;\n",
              "      border-radius: 50%;\n",
              "      cursor: pointer;\n",
              "      display: none;\n",
              "      fill: #1967D2;\n",
              "      height: 32px;\n",
              "      padding: 0 0 0 0;\n",
              "      width: 32px;\n",
              "    }\n",
              "\n",
              "    .colab-df-convert:hover {\n",
              "      background-color: #E2EBFA;\n",
              "      box-shadow: 0px 1px 2px rgba(60, 64, 67, 0.3), 0px 1px 3px 1px rgba(60, 64, 67, 0.15);\n",
              "      fill: #174EA6;\n",
              "    }\n",
              "\n",
              "    [theme=dark] .colab-df-convert {\n",
              "      background-color: #3B4455;\n",
              "      fill: #D2E3FC;\n",
              "    }\n",
              "\n",
              "    [theme=dark] .colab-df-convert:hover {\n",
              "      background-color: #434B5C;\n",
              "      box-shadow: 0px 1px 3px 1px rgba(0, 0, 0, 0.15);\n",
              "      filter: drop-shadow(0px 1px 2px rgba(0, 0, 0, 0.3));\n",
              "      fill: #FFFFFF;\n",
              "    }\n",
              "  </style>\n",
              "\n",
              "      <script>\n",
              "        const buttonEl =\n",
              "          document.querySelector('#df-927b382b-8cfb-42ba-915a-6ab2ad04aa46 button.colab-df-convert');\n",
              "        buttonEl.style.display =\n",
              "          google.colab.kernel.accessAllowed ? 'block' : 'none';\n",
              "\n",
              "        async function convertToInteractive(key) {\n",
              "          const element = document.querySelector('#df-927b382b-8cfb-42ba-915a-6ab2ad04aa46');\n",
              "          const dataTable =\n",
              "            await google.colab.kernel.invokeFunction('convertToInteractive',\n",
              "                                                     [key], {});\n",
              "          if (!dataTable) return;\n",
              "\n",
              "          const docLinkHtml = 'Like what you see? Visit the ' +\n",
              "            '<a target=\"_blank\" href=https://colab.research.google.com/notebooks/data_table.ipynb>data table notebook</a>'\n",
              "            + ' to learn more about interactive tables.';\n",
              "          element.innerHTML = '';\n",
              "          dataTable['output_type'] = 'display_data';\n",
              "          await google.colab.output.renderOutput(dataTable, element);\n",
              "          const docLink = document.createElement('div');\n",
              "          docLink.innerHTML = docLinkHtml;\n",
              "          element.appendChild(docLink);\n",
              "        }\n",
              "      </script>\n",
              "    </div>\n",
              "  </div>\n",
              "  "
            ]
          },
          "metadata": {},
          "execution_count": 17
        }
      ]
    }
  ]
}